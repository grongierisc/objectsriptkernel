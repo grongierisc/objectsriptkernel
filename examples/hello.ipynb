{
 "cells": [
  {
   "cell_type": "code",
   "execution_count": 1,
   "metadata": {},
   "outputs": [
    {
     "name": "stdout",
     "output_type": "stream",
     "text": [
      "hello\n",
      "world\n"
     ]
    }
   ],
   "source": [
    "print(\"hello\")\n",
    "print(\"world\")"
   ]
  },
  {
   "cell_type": "code",
   "execution_count": 34,
   "metadata": {},
   "outputs": [
    {
     "name": "stdout",
     "output_type": "stream",
     "text": [
      "['3', 'toto', '']\n",
      "['4', 'toto', '']\n",
      "['5', 'toto', '']\n",
      "['6', 'toto', '']\n",
      "['7', 'toto', '']\n",
      "['8', 'toto', '']\n"
     ]
    }
   ],
   "source": [
    "statement = iris.sql.prepare('SELECT * FROM Demo.Person')\n",
    "rs1 = statement.execute()\n",
    "for row in rs1:\n",
    "    print(row)"
   ]
  },
  {
   "cell_type": "code",
   "execution_count": 23,
   "metadata": {},
   "outputs": [
    {
     "name": "stdout",
     "output_type": "stream",
     "text": [
      "<iris.Demo.Person object at 0x7fbcecf24540>\n"
     ]
    }
   ],
   "source": [
    "import iris\n",
    "person = iris.cls('Demo.Person')._New()\n",
    "person.Name = 'toto'\n",
    "print(person)\n",
    "person._Save()"
   ]
  },
  {
   "cell_type": "code",
   "execution_count": 43,
   "metadata": {},
   "outputs": [
    {
     "name": "stdout",
     "output_type": "stream",
     "text": []
    }
   ],
   "source": [
    "def test(toto=''):\n",
    "    print(toto)\n",
    "    return toto"
   ]
  },
  {
   "cell_type": "code",
   "execution_count": 32,
   "metadata": {},
   "outputs": [
    {
     "name": "stdout",
     "output_type": "stream",
     "text": [
      "toto\n"
     ]
    }
   ],
   "source": [
    "personOpen = iris.cls('Demo.Person')._OpenId(3)\n",
    "print(personOpen.Name)"
   ]
  },
  {
   "cell_type": "code",
   "execution_count": 45,
   "metadata": {},
   "outputs": [
    {
     "name": "stdout",
     "output_type": "stream",
     "text": [
      "totot\n"
     ]
    }
   ],
   "source": [
    "test('totot')"
   ]
  },
  {
   "cell_type": "code",
   "execution_count": null,
   "metadata": {},
   "outputs": [],
   "source": []
  }
 ],
 "metadata": {
  "kernelspec": {
   "display_name": "IrisPython",
   "language": "",
   "name": "objectscriptkernel"
  },
  "language_info": {
   "file_extension": ".cls",
   "mimetype": "text/x-python",
   "name": "python"
  }
 },
 "nbformat": 4,
 "nbformat_minor": 4
}
