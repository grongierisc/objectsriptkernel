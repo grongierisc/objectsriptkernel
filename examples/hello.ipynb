{
 "cells": [
  {
   "cell_type": "code",
   "execution_count": 1,
   "metadata": {},
   "outputs": [
    {
     "name": "stdout",
     "output_type": "stream",
     "text": [
      "hello\n",
      "world\n"
     ]
    }
   ],
   "source": [
    "print(\"hello\")\n",
    "print(\"world\")"
   ]
  },
  {
   "cell_type": "code",
   "execution_count": 17,
   "metadata": {},
   "outputs": [
    {
     "name": "stdout",
     "output_type": "stream",
     "text": [
      "['3', 'toto', '']\n",
      "['4', 'toto', '']\n",
      "['5', 'toto', '']\n",
      "['6', 'toto', '']\n",
      "['7', 'toto', '']\n",
      "['8', 'toto', '']\n",
      "['9', 'toto', '']\n",
      "['10', 'toto', '']\n",
      "['11', 'toto', '']\n"
     ]
    }
   ],
   "source": [
    "import iris\n",
    "statement = iris.sql.prepare('SELECT * FROM Demo.Person')\n",
    "rs1 = statement.execute()\n",
    "for row in rs1:\n",
    "    print(row)"
   ]
  },
  {
   "cell_type": "code",
   "execution_count": 18,
   "metadata": {},
   "outputs": [
    {
     "name": "stdout",
     "output_type": "stream",
     "text": [
      "<iris.Demo.Person object at 0x7f9a4f429870>\n"
     ]
    }
   ],
   "source": [
    "import iris\n",
    "person = iris.cls('Demo.Person')._New()\n",
    "person.Name = 'toto'\n",
    "print(person)\n",
    "person._Save()"
   ]
  },
  {
   "cell_type": "code",
   "execution_count": 14,
   "metadata": {},
   "outputs": [
    {
     "name": "stdout",
     "output_type": "stream",
     "text": []
    }
   ],
   "source": [
    "def test(toto=''):\n",
    "    print(toto)\n",
    "    return toto"
   ]
  },
  {
   "cell_type": "code",
   "execution_count": 15,
   "metadata": {},
   "outputs": [
    {
     "data": {
      "text/html": [
       "<p><span class=\"ansi-red-fg\">Traceback (most recent call last):\n",
       "  File \"<string>\", line 1, in <module>\n",
       "NameError: name 'iris' is not defined\n",
       "</span></p>"
      ]
     },
     "metadata": {},
     "output_type": "display_data"
    }
   ],
   "source": [
    "personOpen = iris.cls('Demo.Person')._OpenId(3)\n",
    "print(personOpen.Name)"
   ]
  },
  {
   "cell_type": "code",
   "execution_count": 13,
   "metadata": {},
   "outputs": [
    {
     "name": "stdout",
     "output_type": "stream",
     "text": [
      "totot\n"
     ]
    }
   ],
   "source": [
    "%test\n",
    "print('totot')"
   ]
  },
  {
   "cell_type": "code",
   "execution_count": 1,
   "metadata": {},
   "outputs": [
    {
     "data": {
      "text/html": [
       "<p><span class=\"ansi-red-fg\">Traceback (most recent call last):\n",
       "  File \"<string>\", line 1, in <module>\n",
       "NameError: name 'test' is not defined\n",
       "</span></p>"
      ]
     },
     "metadata": {},
     "output_type": "display_data"
    }
   ],
   "source": [
    "test('totot')\n",
    "errorfgd"
   ]
  },
  {
   "cell_type": "code",
   "execution_count": 11,
   "metadata": {},
   "outputs": [
    {
     "name": "stdout",
     "output_type": "stream",
     "text": [
      "test=\"titi\"\r\n",
      "\"else\"\r\n"
     ]
    }
   ],
   "source": [
    "%cos\n",
    "set test=\"titi\"\n",
    "zw test\n",
    "if test '= \"titi\" {\n",
    "    zw \"if\"\n",
    "}\n",
    "else {\n",
    "    zw \"else\"\n",
    "}"
   ]
  },
  {
   "cell_type": "code",
   "execution_count": 12,
   "metadata": {},
   "outputs": [
    {
     "name": "stdout",
     "output_type": "stream",
     "text": [
      "ID\tName\tPropertyName\r\n",
      "3\ttoto\t\r\n",
      "4\ttoto\t\r\n",
      "5\ttoto\t\r\n",
      "6\ttoto\t\r\n",
      "7\ttoto\t\r\n",
      "8\ttoto\t\r\n",
      "9\ttoto\t\r\n",
      "10\ttoto\t\r\n",
      "\r\n",
      "8 Rows(s) Affected"
     ]
    }
   ],
   "source": [
    "%sql\n",
    "SELECT * FROM \n",
    "Demo.Person"
   ]
  },
  {
   "cell_type": "code",
   "execution_count": null,
   "metadata": {},
   "outputs": [],
   "source": []
  }
 ],
 "metadata": {
  "kernelspec": {
   "display_name": "IrisPython",
   "language": "",
   "name": "objectscriptkernel"
  },
  "language_info": {
   "file_extension": ".cls",
   "mimetype": "text/x-python",
   "name": "python"
  }
 },
 "nbformat": 4,
 "nbformat_minor": 4
}
